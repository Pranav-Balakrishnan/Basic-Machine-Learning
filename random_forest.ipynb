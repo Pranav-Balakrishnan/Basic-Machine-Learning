{
 "cells": [
  {
   "cell_type": "code",
   "execution_count": 4,
   "metadata": {},
   "outputs": [],
   "source": [
    "import numpy as np\n",
    "import pandas as pd\n",
    "from sklearn.tree import DecisionTreeClassifier\n",
    "from collections import Counter\n",
    "from sklearn.model_selection import train_test_split\n",
    "from sklearn import datasets\n",
    "from sklearn.metrics import accuracy_score"
   ]
  },
  {
   "cell_type": "code",
   "execution_count": 3,
   "metadata": {},
   "outputs": [],
   "source": [
    "def bag(X,y):\n",
    "    n_samples = X.shape[0]\n",
    "    indices = np.random.choice(n_samples,size=n_samples,replace=True)\n",
    "    return X[indices],y[indices]\n",
    "\n",
    "def most_common_label(y):\n",
    "    counter = Counter(y)\n",
    "    return counter.most_common(1)[0][0]\n",
    "\n",
    "class RandomForest:\n",
    "    def __init__(self, n_trees=10, min_samples_split=2, max_depth=100, max_features=None):\n",
    "         self.n_trees = n_trees\n",
    "         self.min_samples_split = min_samples_split\n",
    "         self.max_depth = max_depth\n",
    "         self.max_features = max_features\n",
    "         self.trees = []\n",
    "    \n",
    "    def fit(self, X, y):\n",
    "        self.trees=[]\n",
    "        for _ in range(self.n_trees):\n",
    "            tree = DecisionTreeClassifier(min_samples_split=self.min_samples_split,\n",
    "                                            max_depth=self.max_depth, max_features=self.max_features)\n",
    "            X_sample, y_sample = bag(X, y)\n",
    "            tree.fit(X_sample,y_sample)\n",
    "            self.trees.append(tree)\n",
    "\n",
    "    def predict(self, X):\n",
    "        tree_predict = np.swapaxes(np.array([tree.predict(X) for tree in self.trees]),0,1)\n",
    "        y_pred = [most_common_label(tree_pred) for tree_pred in tree_predict]\n",
    "        return np.array(y_pred)"
   ]
  },
  {
   "cell_type": "code",
   "execution_count": 10,
   "metadata": {},
   "outputs": [
    {
     "name": "stdout",
     "output_type": "stream",
     "text": [
      "0.9790209790209791\n"
     ]
    }
   ],
   "source": [
    "X,y = datasets.load_breast_cancer(return_X_y=True)\n",
    "X_train,X_test,y_train,y_test = train_test_split(X, y)\n",
    "rf = RandomForest(n_trees=15, max_depth=15,max_features='sqrt')\n",
    "rf.fit(X_train,y_train)\n",
    "y_pred = rf.predict(X_test)\n",
    "acc = accuracy_score(y_test,y_pred)\n",
    "print(acc)"
   ]
  }
 ],
 "metadata": {
  "interpreter": {
   "hash": "9df1b3d7a578ae7f9767aeeed95c1791e173583b81c588f90ca906e4d0abdec3"
  },
  "kernelspec": {
   "display_name": "Python 3.9.5 ('base')",
   "language": "python",
   "name": "python3"
  },
  "language_info": {
   "codemirror_mode": {
    "name": "ipython",
    "version": 3
   },
   "file_extension": ".py",
   "mimetype": "text/x-python",
   "name": "python",
   "nbconvert_exporter": "python",
   "pygments_lexer": "ipython3",
   "version": "3.9.5"
  },
  "orig_nbformat": 4
 },
 "nbformat": 4,
 "nbformat_minor": 2
}
