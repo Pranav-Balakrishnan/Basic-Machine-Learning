{
 "cells": [
  {
   "cell_type": "markdown",
   "metadata": {},
   "source": [
    "Import Packages"
   ]
  },
  {
   "cell_type": "code",
   "execution_count": 1,
   "metadata": {},
   "outputs": [],
   "source": [
    "import numpy as np\n",
    "import matplotlib.pyplot as plt\n",
    "import seaborn as sns"
   ]
  },
  {
   "cell_type": "markdown",
   "metadata": {},
   "source": [
    "Linear Regression Class"
   ]
  },
  {
   "cell_type": "code",
   "execution_count": 2,
   "metadata": {},
   "outputs": [],
   "source": [
    "class LinReg(object):\n",
    "    def __init__(self):\n",
    "        self.t0=200\n",
    "        self.t1=100000\n",
    "    \n",
    "    def predict(self,X:np.ndarray)->np.ndarray:\n",
    "        return X@self.w\n",
    "    \n",
    "    def loss(self,X:np.ndarray,y:np.ndarray)->float:\n",
    "        error=y-self.predict(X)\n",
    "        return 0.5*np.transpose(error)@error\n",
    "    \n",
    "    def rmse(self,X:np.ndarray,y:np.ndarray)->float:\n",
    "        return np.sqrt((2/X.shape[0])*self.loss(X,y))\n",
    "    \n",
    "    def fit(self,X:np.ndarray,y:np.ndarray)->np.ndarray:\n",
    "        self.w=np.linalg.pinv(X)@y\n",
    "        return self.w\n",
    "\n",
    "    def calculate_gradient(self,X:np.ndarray,y:np.ndarray)->np.ndarray:\n",
    "        return np.transpose(X)@(self.predict(X)-y)\n",
    "\n",
    "    def update_weights(self,grad:np.ndarray,lr:float)->np.ndarray:\n",
    "        return (self.w-lr*grad)\n",
    "    \n",
    "    def learning_schedule(self,t):\n",
    "        return self.t0/(self.t1+t)\n",
    "    \n",
    "    def gradient_descent(self,X:np.ndarray,y:np.ndarray,num_epochs:int,lr:float)->np.ndarray:\n",
    "        self.w=np.zeros((X.shape[1]))\n",
    "        self.w_all=[]\n",
    "        self.err_all=[]\n",
    "        for i in range(num_epochs):\n",
    "            dJdW=self.calculate_gradient(X,y)\n",
    "            self.w_all.append(self.w)\n",
    "            self.err_all.append(self.loss(X,y))\n",
    "            self.w=self.update_weights(dJdW,lr)\n",
    "        return self.w\n",
    "    \n",
    "    def mini_batch_gradient_descent(self,X:np.ndarray,y:np.ndarray,num_epochs:int,batch_size:int)->np.ndarray:\n",
    "        self.w=np.zeros((X.shape[1]))\n",
    "        self.w_all=[]\n",
    "        self.err_all=[]\n",
    "        mini_batch_id=0\n",
    "\n",
    "        for epoch in range(num_epochs):\n",
    "            shuffled_indices=np.random.permutation(X.shape[0])\n",
    "            X_shuffled=X[shuffled_indices]\n",
    "            y_shuffled=y[shuffled_indices]\n",
    "            for i in range(0,X.shape[0],batch_size):\n",
    "                mini_batch_id+=1\n",
    "                xi=X_shuffled[i:i+batch_size]\n",
    "                yi=y_shuffled[i:i+batch_size]\n",
    "                \n",
    "                self.w_all.append(self.w)\n",
    "                self.err_all.append(self.loss(xi,yi))\n",
    "\n",
    "                dJdW=(2/batch_size)*self.calculate_gradient(xi,yi)\n",
    "                self.w=self.update_weights(dJdW,self.learning_schedule(mini_batch_id))\n",
    "        return self.w\n",
    "\n",
    "    def stochastic_gradient_descent(self,X:np.ndarray,y:np.ndarray,num_epochs:int)->np.ndarray:\n",
    "        self.w=np.zeros((X.shape[1]))\n",
    "        self.w_all=[]\n",
    "        self.err_all=[]\n",
    "\n",
    "        for epoch in range(num_epochs):\n",
    "            for i in range(X.shape[0]):\n",
    "                random_index=np.random.randint(X.shape[0])\n",
    "                xi=X[random_index:random_index+1]\n",
    "                yi=y[random_index:random_index+1]\n",
    "\n",
    "                self.w_all.append(self.w)\n",
    "                self.err_all.append(self.loss(xi,yi))\n",
    "\n",
    "                gradients=2*self.calculate_gradient(xi,yi)\n",
    "                lr=self.learning_schedule(epoch*X.shape[0]+i)\n",
    "                self.w=self.update_weights(gradients,lr)\n",
    "        return self.w"
   ]
  },
  {
   "cell_type": "markdown",
   "metadata": {},
   "source": [
    "Function to Generate Training Data with n samples for y = w0 + w1*X"
   ]
  },
  {
   "cell_type": "code",
   "execution_count": 3,
   "metadata": {},
   "outputs": [],
   "source": [
    "def generate_data(n):\n",
    "    w1 = 3\n",
    "    w0 = 4\n",
    "    X = 10 * np.random.rand(n,)\n",
    "    y = w0+w1*X+np.random.rand(n,)\n",
    "    return X,y"
   ]
  },
  {
   "cell_type": "markdown",
   "metadata": {},
   "source": [
    "Preprocessing : Function to Add Dummy Feature Column to the Feature Matrix and Create Train-Test Split"
   ]
  },
  {
   "cell_type": "code",
   "execution_count": 4,
   "metadata": {},
   "outputs": [],
   "source": [
    "from sklearn.model_selection import train_test_split\n",
    "def add_dummy(x): return np.column_stack((np.ones(x.shape[0]),x))\n",
    "def preprocess(X,y):\n",
    "  X_dummy = add_dummy(X)\n",
    "  return  train_test_split(X_dummy,y,test_size = 0.2, random_state = 42)"
   ]
  },
  {
   "cell_type": "code",
   "execution_count": 5,
   "metadata": {},
   "outputs": [],
   "source": [
    "X,y=generate_data(100)\n",
    "X_train, X_test, y_train, y_test = preprocess(X,y)"
   ]
  },
  {
   "cell_type": "code",
   "execution_count": 6,
   "metadata": {},
   "outputs": [
    {
     "data": {
      "text/plain": [
       "59"
      ]
     },
     "execution_count": 6,
     "metadata": {},
     "output_type": "execute_result"
    }
   ],
   "source": [
    "np.random.randint(0,X.shape[0])"
   ]
  },
  {
   "cell_type": "markdown",
   "metadata": {},
   "source": [
    "Visualize the Data "
   ]
  },
  {
   "cell_type": "code",
   "execution_count": 7,
   "metadata": {},
   "outputs": [
    {
     "name": "stderr",
     "output_type": "stream",
     "text": [
      "C:\\ProgramData\\Anaconda3\\lib\\site-packages\\seaborn\\_decorators.py:36: FutureWarning: Pass the following variables as keyword args: x, y. From version 0.12, the only valid positional argument will be `data`, and passing other arguments without an explicit keyword will result in an error or misinterpretation.\n",
      "  warnings.warn(\n"
     ]
    },
    {
     "data": {
      "text/plain": [
       "<AxesSubplot:>"
      ]
     },
     "execution_count": 7,
     "metadata": {},
     "output_type": "execute_result"
    },
    {
     "data": {
      "image/png": "[encoded data removed]",
      "text/plain": [
       "<Figure size 432x288 with 1 Axes>"
      ]
     },
     "metadata": {},
     "output_type": "display_data"
    }
   ],
   "source": [
    "sns.set(style='whitegrid')\n",
    "sns.scatterplot(X,y)"
   ]
  },
  {
   "cell_type": "markdown",
   "metadata": {},
   "source": [
    "Comparing Weights obtained by Normal Equation, GD, MBGD, SGD"
   ]
  },
  {
   "cell_type": "code",
   "execution_count": 8,
   "metadata": {},
   "outputs": [
    {
     "name": "stdout",
     "output_type": "stream",
     "text": [
      "Weight Vector for Normal Equation :  [4.55378599 2.99638339]\n"
     ]
    }
   ],
   "source": [
    "lin_reg=LinReg()\n",
    "lin_reg.fit(X_train,y_train)\n",
    "print(\"Weight Vector for Normal Equation : \",lin_reg.w)"
   ]
  },
  {
   "cell_type": "code",
   "execution_count": 9,
   "metadata": {},
   "outputs": [
    {
     "name": "stdout",
     "output_type": "stream",
     "text": [
      "Weight Vector for Gradient Descent :  [3.94333367 3.08717666]\n"
     ]
    }
   ],
   "source": [
    "lin_reg.gradient_descent(X_train,y_train,num_epochs=1000,lr=1e-4)\n",
    "print(\"Weight Vector for Gradient Descent : \",lin_reg.w)"
   ]
  },
  {
   "cell_type": "code",
   "execution_count": 10,
   "metadata": {},
   "outputs": [
    {
     "name": "stdout",
     "output_type": "stream",
     "text": [
      "Weight Vector for Mini Batch Gradient Descent :  [4.51346744 3.00183828]\n"
     ]
    }
   ],
   "source": [
    "lin_reg.mini_batch_gradient_descent(X_train,y_train,num_epochs=1000,batch_size=16)\n",
    "print(\"Weight Vector for Mini Batch Gradient Descent : \",lin_reg.w)"
   ]
  },
  {
   "cell_type": "code",
   "execution_count": 11,
   "metadata": {},
   "outputs": [
    {
     "name": "stdout",
     "output_type": "stream",
     "text": [
      "Weight Vector for Stochastic Gradient Descent :  [4.54362381 3.00353559]\n"
     ]
    }
   ],
   "source": [
    "lin_reg.stochastic_gradient_descent(X_train,y_train,num_epochs=1000)\n",
    "print(\"Weight Vector for Stochastic Gradient Descent : \",lin_reg.w)"
   ]
  },
  {
   "cell_type": "markdown",
   "metadata": {},
   "source": [
    "Linear Regression on Mlutiple Features and Single Label"
   ]
  },
  {
   "cell_type": "code",
   "execution_count": 12,
   "metadata": {},
   "outputs": [],
   "source": [
    "from sklearn.datasets import make_regression\n",
    "X,y,coef=make_regression(n_samples=200,n_features=10,n_informative=10,\n",
    "                            n_targets=1,shuffle=True,coef=True,noise=0.5,random_state=12)\n"
   ]
  },
  {
   "cell_type": "code",
   "execution_count": 13,
   "metadata": {},
   "outputs": [
    {
     "name": "stdout",
     "output_type": "stream",
     "text": [
      "Shape of Feature Matrix :  (200, 10)\n",
      "Shape of Label Vector :  (200,)\n",
      "Shape of Weight Vector used for Data Generation :  (10,)\n"
     ]
    }
   ],
   "source": [
    "print('Shape of Feature Matrix : ',X.shape)\n",
    "print('Shape of Label Vector : ',y.shape)\n",
    "print('Shape of Weight Vector used for Data Generation : ',coef.shape)"
   ]
  },
  {
   "cell_type": "code",
   "execution_count": 14,
   "metadata": {},
   "outputs": [],
   "source": [
    "X_train, X_test, y_train, y_test = preprocess(X,y)"
   ]
  },
  {
   "cell_type": "markdown",
   "metadata": {},
   "source": [
    "Function to plot Learning Curves"
   ]
  },
  {
   "cell_type": "code",
   "execution_count": 15,
   "metadata": {},
   "outputs": [],
   "source": [
    "def plot_learning_curves(err_all):\n",
    "    plt.plot(err_all)\n",
    "    plt.xlabel('Iteration Number')\n",
    "    plt.ylabel('Loss')"
   ]
  },
  {
   "cell_type": "markdown",
   "metadata": {},
   "source": [
    "Comparison of weight vector estimated from different methods"
   ]
  },
  {
   "cell_type": "code",
   "execution_count": 16,
   "metadata": {},
   "outputs": [
    {
     "name": "stdout",
     "output_type": "stream",
     "text": [
      "Weight Vector for Normal Equation :  [-3.72509039e-02  5.40677229e+01  7.97134001e+01  7.21252563e+01\n",
      "  2.97537854e+01  1.51426496e+01  1.61065343e+01  2.35187978e+01\n",
      "  4.49051043e+01  8.94824620e+01  7.89275814e+01]\n"
     ]
    }
   ],
   "source": [
    "lin_reg.fit(X_train,y_train)\n",
    "print(\"Weight Vector for Normal Equation : \",lin_reg.w)"
   ]
  },
  {
   "cell_type": "code",
   "execution_count": 17,
   "metadata": {},
   "outputs": [],
   "source": [
    "np.testing.assert_almost_equal(coef,lin_reg.w[1:],decimal=0)"
   ]
  },
  {
   "cell_type": "code",
   "execution_count": 18,
   "metadata": {},
   "outputs": [
    {
     "data": {
      "image/png": "[encoded data removed]",
      "text/plain": [
       "<Figure size 432x288 with 1 Axes>"
      ]
     },
     "metadata": {},
     "output_type": "display_data"
    }
   ],
   "source": [
    "plot_learning_curves(lin_reg.err_all[:500])"
   ]
  },
  {
   "cell_type": "code",
   "execution_count": 19,
   "metadata": {},
   "outputs": [
    {
     "name": "stdout",
     "output_type": "stream",
     "text": [
      "Weight Vector for Gradient Descent :  [-3.77829261e-02  5.40667549e+01  7.97129000e+01  7.21247689e+01\n",
      "  2.97521252e+01  1.51454647e+01  1.61074397e+01  2.35183952e+01\n",
      "  4.49039507e+01  8.94806589e+01  7.89273461e+01]\n"
     ]
    }
   ],
   "source": [
    "lin_reg.gradient_descent(X_train,y_train,num_epochs=1000,lr=1e-4)\n",
    "print(\"Weight Vector for Gradient Descent : \",lin_reg.w)"
   ]
  },
  {
   "cell_type": "code",
   "execution_count": 20,
   "metadata": {},
   "outputs": [],
   "source": [
    "np.testing.assert_almost_equal(coef,lin_reg.w[1:],decimal=0)"
   ]
  },
  {
   "cell_type": "code",
   "execution_count": 21,
   "metadata": {},
   "outputs": [
    {
     "data": {
      "image/png": "[encoded data removed]",
      "text/plain": [
       "<Figure size 432x288 with 1 Axes>"
      ]
     },
     "metadata": {},
     "output_type": "display_data"
    }
   ],
   "source": [
    "plot_learning_curves(lin_reg.err_all[:500])"
   ]
  },
  {
   "cell_type": "code",
   "execution_count": 22,
   "metadata": {},
   "outputs": [
    {
     "name": "stdout",
     "output_type": "stream",
     "text": [
      "Weight Vector for Mini Batch Gradient Descent :  [-3.72984247e-02  5.40677418e+01  7.97133358e+01  7.21252305e+01\n",
      "  2.97538240e+01  1.51426623e+01  1.61065623e+01  2.35188128e+01\n",
      "  4.49051493e+01  8.94824489e+01  7.89274891e+01]\n"
     ]
    }
   ],
   "source": [
    "lin_reg.mini_batch_gradient_descent(X_train,y_train,num_epochs=1000,batch_size=16)\n",
    "print(\"Weight Vector for Mini Batch Gradient Descent : \",lin_reg.w)"
   ]
  },
  {
   "cell_type": "code",
   "execution_count": 23,
   "metadata": {},
   "outputs": [],
   "source": [
    "np.testing.assert_almost_equal(coef,lin_reg.w[1:],decimal=0)"
   ]
  },
  {
   "cell_type": "code",
   "execution_count": 24,
   "metadata": {},
   "outputs": [
    {
     "data": {
      "image/png": "[encoded data removed]",
      "text/plain": [
       "<Figure size 432x288 with 1 Axes>"
      ]
     },
     "metadata": {},
     "output_type": "display_data"
    }
   ],
   "source": [
    "plot_learning_curves(lin_reg.err_all[:500])"
   ]
  },
  {
   "cell_type": "code",
   "execution_count": 25,
   "metadata": {},
   "outputs": [
    {
     "name": "stdout",
     "output_type": "stream",
     "text": [
      "Weight Vector for Stochastic Gradient Descent :  [-3.12959669e-02  5.40674239e+01  7.97272289e+01  7.21083597e+01\n",
      "  2.97431217e+01  1.51443075e+01  1.61214741e+01  2.35036877e+01\n",
      "  4.49098651e+01  8.94897036e+01  7.89079451e+01]\n"
     ]
    }
   ],
   "source": [
    "lin_reg.stochastic_gradient_descent(X_train,y_train,num_epochs=1000)\n",
    "print(\"Weight Vector for Stochastic Gradient Descent : \",lin_reg.w)"
   ]
  },
  {
   "cell_type": "code",
   "execution_count": 26,
   "metadata": {},
   "outputs": [],
   "source": [
    "np.testing.assert_almost_equal(coef,lin_reg.w[1:],decimal=0)"
   ]
  },
  {
   "cell_type": "code",
   "execution_count": 27,
   "metadata": {},
   "outputs": [
    {
     "data": {
      "image/png": "[encoded data removed]",
      "text/plain": [
       "<Figure size 432x288 with 1 Axes>"
      ]
     },
     "metadata": {},
     "output_type": "display_data"
    }
   ],
   "source": [
    "plot_learning_curves(lin_reg.err_all[:500])"
   ]
  },
  {
   "cell_type": "code",
   "execution_count": null,
   "metadata": {},
   "outputs": [],
   "source": []
  }
 ],
 "metadata": {
  "interpreter": {
   "hash": "b3ba2566441a7c06988d0923437866b63cedc61552a5af99d1f4fb67d367b25f"
  },
  "kernelspec": {
   "display_name": "Python 3.9.7 64-bit ('base': conda)",
   "language": "python",
   "name": "python3"
  },
  "language_info": {
   "codemirror_mode": {
    "name": "ipython",
    "version": 3
   },
   "file_extension": ".py",
   "mimetype": "text/x-python",
   "name": "python",
   "nbconvert_exporter": "python",
   "pygments_lexer": "ipython3",
   "version": "3.9.7"
  },
  "orig_nbformat": 4
 },
 "nbformat": 4,
 "nbformat_minor": 2
}
