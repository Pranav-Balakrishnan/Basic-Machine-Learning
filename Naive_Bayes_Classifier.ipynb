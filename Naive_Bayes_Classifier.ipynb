{
 "cells": [
  {
   "cell_type": "code",
   "execution_count": null,
   "id": "c04cd6f6",
   "metadata": {},
   "outputs": [],
   "source": [
    "import numpy as np\n",
    "import matplotlib.pyplot as plt\n",
    "import seaborn as sns\n",
    "import pandas as pd\n",
    "import warnings\n",
    "from sklearn.model_selection import train_test_split\n",
    "warnings.filterwarnings('ignore')\n",
    "plt.style.use('seaborn')\n",
    "%matplotlib inline"
   ]
  },
  {
   "cell_type": "markdown",
   "id": "4f848c85",
   "metadata": {},
   "source": [
    "## Bernoulli Naive Bias"
   ]
  },
  {
   "cell_type": "code",
   "execution_count": 2,
   "id": "7e83f820",
   "metadata": {},
   "outputs": [],
   "source": [
    "class BernoulliNB(object):\n",
    "    def __init__(self,alpha=1.0):\n",
    "        self.alpha=alpha\n",
    "    \n",
    "    def fit(self,X,y):\n",
    "        n_samples,n_features=X.shape\n",
    "        class_count=np.unique(y)\n",
    "        n_classes=len(class_count)\n",
    "        \n",
    "        self.w=np.zeros((n_classes,n_features),dtype=np.float64)\n",
    "        self.w_priors=np.zeros(n_classes,dtype=np.float64)\n",
    "        \n",
    "        for c in range(n_classes):\n",
    "            X_c=X[y==c]\n",
    "            self.w[c,:]=(np.sum(X_c,axis=0)+self.alpha)/(X_c.shape[0]+2*self.alpha)\n",
    "            self.w_priors[c]=(X_c.shape[0]+self.alpha)/(float(n_samples)+n_classes*self.alpha)\n",
    "            \n",
    "        print(\"Class Conditional Density : \",self.w)\n",
    "        print(\"Prior : \",self.w_priors)\n",
    "        \n",
    "    def log_likelihood_prior_prod(self,X):\n",
    "        return X@(np.log(self.w).T)+(1-X)@np.log((1-self.w).T)+np.log(self.w_priors)\n",
    "    \n",
    "    def predict_prob(self,X):\n",
    "        q=self.log_likelihood_prior_prod(X)\n",
    "        return np.exp(q)/np.expand_dims(np.sum(np.exp(q),axis=1),axis=1)\n",
    "    \n",
    "    def predict(self,X):\n",
    "        return np.argmax(self.log_likelihood_prior_prod(X),axis=1)"
   ]
  },
  {
   "cell_type": "code",
   "execution_count": 6,
   "id": "e2d2b680",
   "metadata": {},
   "outputs": [
    {
     "name": "stdout",
     "output_type": "stream",
     "text": [
      "Class Conditional Density :  [[0.25 0.75]\n",
      " [0.75 0.25]\n",
      " [0.75 0.75]]\n",
      "Prior :  [0.33333333 0.33333333 0.33333333]\n"
     ]
    }
   ],
   "source": [
    "X=np.array([[1,0],[0,1],[0,1],[1,0],[1,1],[1,1]])\n",
    "y=np.array([1,0,0,1,2,2])\n",
    "bernoulli_nb=BernoulliNB()\n",
    "bernoulli_nb.fit(X,y)"
   ]
  },
  {
   "cell_type": "code",
   "execution_count": 7,
   "id": "d75d5d58",
   "metadata": {},
   "outputs": [
    {
     "data": {
      "text/plain": [
       "array([1, 0, 0, 1, 2, 2], dtype=int64)"
      ]
     },
     "execution_count": 7,
     "metadata": {},
     "output_type": "execute_result"
    }
   ],
   "source": [
    "bernoulli_nb.predict(X)"
   ]
  },
  {
   "cell_type": "code",
   "execution_count": 8,
   "id": "943392a8",
   "metadata": {},
   "outputs": [
    {
     "data": {
      "text/plain": [
       "array([[-3.87120101, -1.67397643, -2.77258872],\n",
       "       [-1.67397643, -3.87120101, -2.77258872],\n",
       "       [-1.67397643, -3.87120101, -2.77258872],\n",
       "       [-3.87120101, -1.67397643, -2.77258872],\n",
       "       [-2.77258872, -2.77258872, -1.67397643],\n",
       "       [-2.77258872, -2.77258872, -1.67397643]])"
      ]
     },
     "execution_count": 8,
     "metadata": {},
     "output_type": "execute_result"
    }
   ],
   "source": [
    "bernoulli_nb.log_likelihood_prior_prod(X)"
   ]
  },
  {
   "cell_type": "markdown",
   "id": "7d3abc20",
   "metadata": {},
   "source": [
    "Gaussian  Naive Bias"
   ]
  },
  {
   "cell_type": "code",
   "execution_count": null,
   "id": "0aad2ba5",
   "metadata": {},
   "outputs": [],
   "source": []
  },
  {
   "cell_type": "code",
   "execution_count": null,
   "id": "b705d29b",
   "metadata": {},
   "outputs": [],
   "source": []
  }
 ],
 "metadata": {
  "kernelspec": {
   "display_name": "Python 3 (ipykernel)",
   "language": "python",
   "name": "python3"
  },
  "language_info": {
   "codemirror_mode": {
    "name": "ipython",
    "version": 3
   },
   "file_extension": ".py",
   "mimetype": "text/x-python",
   "name": "python",
   "nbconvert_exporter": "python",
   "pygments_lexer": "ipython3",
   "version": "3.9.5"
  }
 },
 "nbformat": 4,
 "nbformat_minor": 5
}
