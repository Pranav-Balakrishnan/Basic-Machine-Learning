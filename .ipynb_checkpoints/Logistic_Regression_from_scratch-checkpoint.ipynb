{
 "cells": [
  {
   "cell_type": "code",
   "execution_count": 1,
   "id": "bc1dd530",
   "metadata": {},
   "outputs": [],
   "source": [
    "import numpy as np\n",
    "import matplotlib.pyplot as plt\n",
    "import seaborn as sns\n",
    "import pandas as pd\n",
    "import warnings\n",
    "from sklearn.model_selection import train_test_split\n",
    "warnings.filterwarnings('ignore')\n",
    "plt.style.use('seaborn')\n",
    "%matplotlib inline"
   ]
  },
  {
   "cell_type": "code",
   "execution_count": null,
   "id": "4328b102",
   "metadata": {},
   "outputs": [],
   "source": [
    "class LogisticRegression(object):\n",
    "    def set_weight_vector(self,w):\n",
    "        self.w=w\n",
    "    def linear_combination(self,X:np.ndarray)->np.ndarray:\n",
    "        return X@self.w\n",
    "    def sigmoid(self,z:np.ndarray):\n",
    "        return 1/(1+np.exp(-z))\n",
    "    def activation(self,X:np.ndarray)->np.ndarray:\n",
    "        self.sigmoid(self.linear_combination(X))\n",
    "    def predict(self,x:np.ndarray,threshold:float=0.5):\n",
    "        return np.where(self.activation(x)>threshold,1,0)astype(int)\n",
    "    def loss(self,X:np.ndarray,y:np.ndarray,reg_rate:float)->float:\n",
    "        predicted_prob=self.activation(X)\n",
    "        return -1*(np.sum(y*np.log(predicted_prob)+(1-y)*np.log(1-predicted_prob)))+reg_rate*np.dot(self.w.T,self.w)\n",
    "    def calculate_gradient(self,X:np.ndarray,y:np.ndarray,reg_rate:float)->np.ndarray:\n",
    "        return X.T@(self.activation(X)-y)+reg_rate*self.w\n",
    "    def update_weights(self,grad:np.ndarray,lr:float)->np.ndarray:\n",
    "        return self.w-lr*grad\n",
    "    def gd(self,X:np.ndarray,y:np.ndarray,num_epochs:int,lr:float,reg_rate:float)->np.ndarray:\n",
    "        self.w=np.zeros(X.shape[1])\n",
    "        self.w_all=[]\n",
    "        \n",
    "    \n",
    "    "
   ]
  },
  {
   "cell_type": "code",
   "execution_count": null,
   "id": "ffe86a7b",
   "metadata": {},
   "outputs": [],
   "source": []
  },
  {
   "cell_type": "code",
   "execution_count": null,
   "id": "002b4097",
   "metadata": {},
   "outputs": [],
   "source": []
  },
  {
   "cell_type": "code",
   "execution_count": null,
   "id": "d0c6574c",
   "metadata": {},
   "outputs": [],
   "source": []
  },
  {
   "cell_type": "code",
   "execution_count": null,
   "id": "65cc08cb",
   "metadata": {},
   "outputs": [],
   "source": []
  },
  {
   "cell_type": "code",
   "execution_count": null,
   "id": "03a7e3aa",
   "metadata": {},
   "outputs": [],
   "source": []
  }
 ],
 "metadata": {
  "kernelspec": {
   "display_name": "Python 3 (ipykernel)",
   "language": "python",
   "name": "python3"
  },
  "language_info": {
   "codemirror_mode": {
    "name": "ipython",
    "version": 3
   },
   "file_extension": ".py",
   "mimetype": "text/x-python",
   "name": "python",
   "nbconvert_exporter": "python",
   "pygments_lexer": "ipython3",
   "version": "3.9.5"
  }
 },
 "nbformat": 4,
 "nbformat_minor": 5
}
