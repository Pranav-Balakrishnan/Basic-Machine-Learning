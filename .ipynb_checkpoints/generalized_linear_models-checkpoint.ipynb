{
 "cells": [
  {
   "cell_type": "markdown",
   "id": "c2c7d7b2",
   "metadata": {},
   "source": [
    "### Introduction\n",
    "\n",
    "Regression and classification are special cases of a broader family of models, called Generalized Linear Models (GLMs)."
   ]
  },
  {
   "cell_type": "markdown",
   "id": "85ba1877",
   "metadata": {},
   "source": [
    "#### Exponential Family\n",
    "\n",
    "We say that a class of distributions is in the exponential family if it can be written in the form\n",
    "$$\n",
    "p(y;\\eta) = b(y) exp(\\eta^{T}T(y) - a(\\eta))\n",
    "$$\n",
    "Here,\n",
    "$\\eta$ is called the Natural or Canonical parameter of distribution.\n",
    "\n",
    "$T(y)$ is called the Sufficient Statistic. In most of the cases $T(y)=y$.\n",
    "\n",
    "$a(\\eta)$ is called the Log Partition Function. \n",
    "\n",
    "The quantity $e^{-a(\\eta)}$ essentially plays the role of a normalization constant, that makes sure that the distribution $p(y;\\eta)$ sums/integrates over $y$ to $1$.\n",
    "\n",
    "A fixed choice of T, a and b defines a family(or set) of distributions that is parameterized by $\\eta$. As we vary $\\eta$ we get different distributions within this family."
   ]
  },
  {
   "cell_type": "markdown",
   "id": "9a085c35",
   "metadata": {},
   "source": [
    "#### Bernoulli Distribution\n",
    "The Bernoulli distribution with mean $φ$, written Bernoulli($\\phi$) , specifies a\n",
    "distribution over $y \\in \\{0,1\\}$ such that\n",
    "$$\n",
    "p(y;\\phi) = \\phi^y(1-\\phi)^{1-y}\n",
    "= exp(log(\\phi^y(1-\\phi)^{1-y}))\n",
    "= exp \\left(y\\ log\\left( \\cfrac {\\phi}{1-\\phi} \\right) + log(1-\\phi)\\right)       \n",
    "$$\n",
    "Consider,\n",
    "$$\n",
    "\\eta = log\\left( \\cfrac {\\phi}{1-\\phi} \\right)\n",
    "$$\n",
    "which can be rewritten as,\n",
    "$$\n",
    "\\phi = \\cfrac {1}{1-e^{-\\eta}}\n",
    "$$\n",
    "As we vary $\\phi$, we obtain Bernoulli distributions with different means.\n",
    "\n",
    "$$\n",
    "p(y;\\phi) = exp \\left(y\\ log\\left( \\cfrac {\\phi}{1-\\phi} \\right) + log(1-\\phi)\\right)       \n",
    "$$\n",
    "Compare with \n",
    "$$\n",
    "p(y;\\eta) = b(y)\\exp(\\eta^{T}T(y) - a(\\eta))\n",
    "$$\n",
    "we obtain\n",
    "$$ \n",
    "b(y)=1 \\\\ \n",
    "\\eta = log\\left( \\cfrac {\\phi}{1-\\phi} \\right) \\\\\n",
    "T(y)=y \\\\\n",
    "a(\\eta)=-log(1-\\phi)\n",
    "$$\n",
    "This shows that Bernoulli Distribution can be written in the form of $p(y;\\eta) = b(y)\\exp(\\eta^{T}T(y) - a(\\eta))$, using appropriate choice of T,a and b."
   ]
  },
  {
   "cell_type": "markdown",
   "id": "6ef5db03",
   "metadata": {},
   "source": [
    "#### Gaussian Distribution\n",
    "To simplify things, lets set $\\sigma = 1 $\n",
    "$$\n",
    "p(y;\\mu) = \\cfrac{1}{\\sqrt{2 \\pi}} \\exp \\left(- \\cfrac{(y-\\mu)^2}{2} \\right) \n",
    "$$\n",
    "Rearranging the terms we obtain,\n",
    "$$\n",
    "p(y;\\mu) = \\cfrac{1}{\\sqrt{2 \\pi}} \\exp \\left(\\cfrac{-y^2}{2} \\right).\\exp \\left(y\\mu-\\cfrac{\\mu^2}{2} \\right)  \n",
    "$$\n",
    "Compare this with \n",
    "$$\n",
    "p(y;\\eta) = b(y)\\exp(\\eta^{T}T(y) - a(\\eta))\n",
    "$$\n",
    "we obtain\n",
    "$$ \n",
    "b(y)=\\cfrac{1}{\\sqrt{2 \\pi}} \\exp \\left(\\cfrac{-y^2}{2} \\right) \\\\\n",
    "$$\n",
    "$$\n",
    "\\eta = \\mu \\\\\n",
    "$$\n",
    "$$\n",
    "T(y)=y \\\\\n",
    "$$\n",
    "$$\n",
    "a(\\eta)=\\cfrac {\\eta^2}{2}\n",
    "$$\n",
    "This shows that Gaussian Distribution can be written in the form of $p(y;\\eta) = b(y)\\exp(\\eta^{T}T(y) - a(\\eta))$, using appropriate choice of T,a and b.\n",
    "\n",
    "There are many other distributions that are members of the exponential family:\n",
    "e.g. Multinomial distribution, Poisson distribution, Gamma Distribuion, Beta Distribution and Dirichlet Distribution"
   ]
  },
  {
   "cell_type": "markdown",
   "id": "5996d13f",
   "metadata": {},
   "source": [
    "### Constructing GLMs\n",
    "Consider a classification or regression problem where we would like to predict the value of some random variable y as a function of x.\n",
    "\n",
    "To derive a GLM for this problem, we will make the following three assumptions about the conditional distribution of given and about our model:\n",
    "\n",
    "1. The distribution of $y$ given $\\mathbf x$ parameterized by $\\mathbf w$ follows some exponential family distribution, with parameter $\\eta$.\n",
    "$$\n",
    "y|\\mathbf x;\\mathbf w ~ ExponentialFamily(\\eta)\n",
    "$$\n",
    "\n",
    "2. Our goal is to predict the expected value of $T(y)$ given $\\mathbf x$ . Since\n",
    "in most examples, $T(y)=y$ , our prediction need to satisfy\n",
    "the following equality:\n",
    "$$\n",
    "h(x)=E[y|\\mathbf x]\n",
    "$$\n",
    "\n",
    "3. The natural parameter and the inputs are related linearly:\n",
    "$$\n",
    "\\eta=\\mathbf w^T\\mathbf x\n",
    "$$\n",
    "\n",
    "The resulting models are often very effective for modelling different\n",
    "types of distributions over y."
   ]
  },
  {
   "cell_type": "code",
   "execution_count": null,
   "id": "7de9b743",
   "metadata": {},
   "outputs": [],
   "source": []
  },
  {
   "cell_type": "code",
   "execution_count": null,
   "id": "e1da8af3",
   "metadata": {},
   "outputs": [],
   "source": []
  },
  {
   "cell_type": "code",
   "execution_count": null,
   "id": "067f41ce",
   "metadata": {},
   "outputs": [],
   "source": []
  }
 ],
 "metadata": {
  "kernelspec": {
   "display_name": "Python 3 (ipykernel)",
   "language": "python",
   "name": "python3"
  },
  "language_info": {
   "codemirror_mode": {
    "name": "ipython",
    "version": 3
   },
   "file_extension": ".py",
   "mimetype": "text/x-python",
   "name": "python",
   "nbconvert_exporter": "python",
   "pygments_lexer": "ipython3",
   "version": "3.9.5"
  }
 },
 "nbformat": 4,
 "nbformat_minor": 5
}
