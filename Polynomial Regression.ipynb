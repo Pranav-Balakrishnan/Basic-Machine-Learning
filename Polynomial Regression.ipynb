{
 "cells": [
  {
   "cell_type": "markdown",
   "metadata": {},
   "source": [
    "Import Packages"
   ]
  },
  {
   "cell_type": "code",
   "execution_count": 30,
   "metadata": {},
   "outputs": [],
   "source": [
    "import numpy as np\n",
    "import matplotlib.pyplot as plt\n",
    "import seaborn as sns\n",
    "import warnings\n",
    "warnings.filterwarnings('ignore')"
   ]
  },
  {
   "cell_type": "markdown",
   "metadata": {},
   "source": [
    "Linear Regression Class"
   ]
  },
  {
   "cell_type": "code",
   "execution_count": 3,
   "metadata": {},
   "outputs": [],
   "source": [
    "class LinReg(object):\n",
    "    def __init__(self):\n",
    "        self.t0=200\n",
    "        self.t1=100000\n",
    "    \n",
    "    def predict(self,X:np.ndarray)->np.ndarray:\n",
    "        return X@self.w\n",
    "    \n",
    "    def loss(self,X:np.ndarray,y:np.ndarray)->float:\n",
    "        error=y-self.predict(X)\n",
    "        return 0.5*np.transpose(error)@error\n",
    "    \n",
    "    def rmse(self,X:np.ndarray,y:np.ndarray)->float:\n",
    "        return np.sqrt((2/X.shape[0])*self.loss(X,y))\n",
    "    \n",
    "    def fit(self,X:np.ndarray,y:np.ndarray)->np.ndarray:\n",
    "        self.w=np.linalg.pinv(X)@y\n",
    "        return self.w\n",
    "\n",
    "    def calculate_gradient(self,X:np.ndarray,y:np.ndarray)->np.ndarray:\n",
    "        return np.transpose(X)@(self.predict(X)-y)\n",
    "\n",
    "    def update_weights(self,grad:np.ndarray,lr:float)->np.ndarray:\n",
    "        return (self.w-lr*grad)\n",
    "    \n",
    "    def learning_schedule(self,t):\n",
    "        return self.t0/(self.t1+t)\n",
    "    \n",
    "    def gradient_descent(self,X:np.ndarray,y:np.ndarray,num_epochs:int,lr:float)->np.ndarray:\n",
    "        self.w=np.zeros((X.shape[1]))\n",
    "        self.w_all=[]\n",
    "        self.err_all=[]\n",
    "        for i in range(num_epochs):\n",
    "            dJdW=self.calculate_gradient(X,y)\n",
    "            self.w_all.append(self.w)\n",
    "            self.err_all.append(self.loss(X,y))\n",
    "            self.w=self.update_weights(dJdW,lr)\n",
    "        return self.w\n",
    "    \n",
    "    def mini_batch_gradient_descent(self,X:np.ndarray,y:np.ndarray,num_epochs:int,batch_size:int)->np.ndarray:\n",
    "        self.w=np.zeros((X.shape[1]))\n",
    "        self.w_all=[]\n",
    "        self.err_all=[]\n",
    "        mini_batch_id=0\n",
    "\n",
    "        for epoch in range(num_epochs):\n",
    "            shuffled_indices=np.random.permutation(X.shape[0])\n",
    "            X_shuffled=X[shuffled_indices]\n",
    "            y_shuffled=y[shuffled_indices]\n",
    "            for i in range(0,X.shape[0],batch_size):\n",
    "                mini_batch_id+=1\n",
    "                xi=X_shuffled[i:i+batch_size]\n",
    "                yi=y_shuffled[i:i+batch_size]\n",
    "                \n",
    "                self.w_all.append(self.w)\n",
    "                self.err_all.append(self.loss(xi,yi))\n",
    "\n",
    "                dJdW=(2/batch_size)*self.calculate_gradient(xi,yi)\n",
    "                self.w=self.update_weights(dJdW,self.learning_schedule(mini_batch_id))\n",
    "        return self.w\n",
    "\n",
    "    def stochastic_gradient_descent(self,X:np.ndarray,y:np.ndarray,num_epochs:int)->np.ndarray:\n",
    "        self.w=np.zeros((X.shape[1]))\n",
    "        self.w_all=[]\n",
    "        self.err_all=[]\n",
    "\n",
    "        for epoch in range(num_epochs):\n",
    "            for i in range(X.shape[0]):\n",
    "                random_index=np.random.randint(X.shape[0])\n",
    "                xi=X[random_index:random_index+1]\n",
    "                yi=y[random_index:random_index+1]\n",
    "\n",
    "                self.w_all.append(self.w)\n",
    "                self.err_all.append(self.loss(xi,yi))\n",
    "\n",
    "                gradients=2*self.calculate_gradient(xi,yi)\n",
    "                lr=self.learning_schedule(epoch*X.shape[0]+i)\n",
    "                self.w=self.update_weights(gradients,lr)\n",
    "        return self.w"
   ]
  },
  {
   "cell_type": "markdown",
   "metadata": {},
   "source": [
    "Functions that performs Polynomial Transformation"
   ]
  },
  {
   "cell_type": "code",
   "execution_count": 4,
   "metadata": {},
   "outputs": [],
   "source": [
    "import itertools\n",
    "import functools\n",
    "\n",
    "def get_combinations(x,degree):\n",
    "    return itertools.combinations_with_replacement(x,degree)\n",
    "\n",
    "def compute_new_feature(items):\n",
    "    return functools.reduce(lambda x,y:x*y,items)"
   ]
  },
  {
   "cell_type": "code",
   "execution_count": 5,
   "metadata": {},
   "outputs": [
    {
     "data": {
      "text/plain": [
       "{(2, 2, 2): 8}"
      ]
     },
     "execution_count": 5,
     "metadata": {},
     "output_type": "execute_result"
    }
   ],
   "source": [
    "{items:compute_new_feature(items) for items in get_combinations([2],3)}"
   ]
  },
  {
   "cell_type": "code",
   "execution_count": 6,
   "metadata": {},
   "outputs": [
    {
     "data": {
      "text/plain": [
       "{(2, 2, 2): 8, (2, 2, 3): 12, (2, 3, 3): 18, (3, 3, 3): 27}"
      ]
     },
     "execution_count": 6,
     "metadata": {},
     "output_type": "execute_result"
    }
   ],
   "source": [
    "{items:compute_new_feature(items) for items in get_combinations([2,3],3)}"
   ]
  },
  {
   "cell_type": "code",
   "execution_count": 7,
   "metadata": {},
   "outputs": [
    {
     "data": {
      "text/plain": [
       "{(3, 3, 3, 3): 81,\n",
       " (3, 3, 3, 4): 108,\n",
       " (3, 3, 4, 4): 144,\n",
       " (3, 4, 4, 4): 192,\n",
       " (4, 4, 4, 4): 256}"
      ]
     },
     "execution_count": 7,
     "metadata": {},
     "output_type": "execute_result"
    }
   ],
   "source": [
    "{items:compute_new_feature(items) for items in get_combinations([3,4],4)}"
   ]
  },
  {
   "cell_type": "code",
   "execution_count": 11,
   "metadata": {},
   "outputs": [],
   "source": [
    "def polynomial_transform(x,degree,logging=False):\n",
    "    if x.ndim==1:\n",
    "        x=x[:,None]\n",
    "    x_t=x.transpose()\n",
    "    features=[np.ones(len(x))]\n",
    "    if logging:\n",
    "        print(\"Input : \",x)\n",
    "    for degree in range(1,degree+1):\n",
    "        for items in get_combinations(x_t,degree):\n",
    "            features.append(compute_new_feature(items))\n",
    "            if logging:\n",
    "                print(items,\" : \",compute_new_feature(items))\n",
    "    if logging:\n",
    "        print(np.asarray(features).transpose())\n",
    "    return np.asarray(features).transpose()"
   ]
  },
  {
   "cell_type": "code",
   "execution_count": 12,
   "metadata": {},
   "outputs": [
    {
     "name": "stdout",
     "output_type": "stream",
     "text": [
      "Input :  [[2 3]\n",
      " [4 5]]\n",
      "(array([2, 4]),)  :  [2 4]\n",
      "(array([3, 5]),)  :  [3 5]\n",
      "(array([2, 4]), array([2, 4]))  :  [ 4 16]\n",
      "(array([2, 4]), array([3, 5]))  :  [ 6 20]\n",
      "(array([3, 5]), array([3, 5]))  :  [ 9 25]\n",
      "[[ 1.  2.  3.  4.  6.  9.]\n",
      " [ 1.  4.  5. 16. 20. 25.]]\n"
     ]
    },
    {
     "data": {
      "text/plain": [
       "array([[ 1.,  2.,  3.,  4.,  6.,  9.],\n",
       "       [ 1.,  4.,  5., 16., 20., 25.]])"
      ]
     },
     "execution_count": 12,
     "metadata": {},
     "output_type": "execute_result"
    }
   ],
   "source": [
    "polynomial_transform(np.array([[2,3],[4,5]]),degree=2,logging=True)"
   ]
  },
  {
   "cell_type": "markdown",
   "metadata": {},
   "source": [
    "Non-Linear Training Data Generation - y=sin(2πx1)+noise"
   ]
  },
  {
   "cell_type": "code",
   "execution_count": 13,
   "metadata": {},
   "outputs": [],
   "source": [
    "def create_nonlin_training_set(func,sample_size,std):\n",
    "    x=np.linspace(0,1,sample_size)\n",
    "    y=func(x)+np.random.normal(scale=std,size=x.shape)\n",
    "    return x,y\n",
    "def nonlin(x):\n",
    "    return np.sin(2*np.pi*x)"
   ]
  },
  {
   "cell_type": "code",
   "execution_count": 26,
   "metadata": {},
   "outputs": [],
   "source": [
    "def visualize_training_data(X_train,y_train):\n",
    "    points=np.linspace(0,1,100)\n",
    "    output=nonlin(points)\n",
    "    sns.set(style='whitegrid')\n",
    "    sns.scatterplot(X_train,y_train),sns.lineplot(points,output)\n",
    "def visualize_model_fit(X,y,lin_reg,degree):\n",
    "    points=np.linspace(0,1,100)\n",
    "    output=nonlin(points)\n",
    "    sns.set(style='whitegrid')\n",
    "    sns.scatterplot(X,y),sns.lineplot(points,output)\n",
    "    y_hat=lin_reg.predict(polynomial_transform(points,degree))\n",
    "    sns.lineplot(points,y_hat,palette=['r'])"
   ]
  },
  {
   "cell_type": "code",
   "execution_count": 35,
   "metadata": {},
   "outputs": [
    {
     "data": {
      "image/png": "[encoded data removed]",
      "text/plain": [
       "<Figure size 432x288 with 1 Axes>"
      ]
     },
     "metadata": {},
     "output_type": "display_data"
    }
   ],
   "source": [
    "num_samples=10\n",
    "points=np.linspace(0,1,100)\n",
    "X,y=create_nonlin_training_set(nonlin,num_samples,0.2)\n",
    "visualize_training_data(X,y)\n"
   ]
  },
  {
   "cell_type": "code",
   "execution_count": 43,
   "metadata": {},
   "outputs": [
    {
     "data": {
      "image/png": "[encoded data removed]",
      "text/plain": [
       "<Figure size 432x288 with 1 Axes>"
      ]
     },
     "metadata": {},
     "output_type": "display_data"
    }
   ],
   "source": [
    "degree=5\n",
    "X_transform=polynomial_transform(X,degree)\n",
    "lin_reg=LinReg()\n",
    "lin_reg.fit(X_transform,y)\n",
    "visualize_model_fit(X,y,lin_reg,degree)"
   ]
  },
  {
   "cell_type": "code",
   "execution_count": 44,
   "metadata": {},
   "outputs": [
    {
     "data": {
      "image/png": "[encoded data removed]",
      "text/plain": [
       "<Figure size 432x288 with 1 Axes>"
      ]
     },
     "metadata": {},
     "output_type": "display_data"
    }
   ],
   "source": [
    "degree=9\n",
    "X_transform=polynomial_transform(X,degree)\n",
    "lin_reg=LinReg()\n",
    "lin_reg.fit(X_transform,y)\n",
    "visualize_model_fit(X,y,lin_reg,degree)"
   ]
  }
 ],
 "metadata": {
  "interpreter": {
   "hash": "b3ba2566441a7c06988d0923437866b63cedc61552a5af99d1f4fb67d367b25f"
  },
  "kernelspec": {
   "display_name": "Python 3.9.7 64-bit ('base': conda)",
   "language": "python",
   "name": "python3"
  },
  "language_info": {
   "codemirror_mode": {
    "name": "ipython",
    "version": 3
   },
   "file_extension": ".py",
   "mimetype": "text/x-python",
   "name": "python",
   "nbconvert_exporter": "python",
   "pygments_lexer": "ipython3",
   "version": "3.9.7"
  },
  "orig_nbformat": 4
 },
 "nbformat": 4,
 "nbformat_minor": 2
}
