{
 "cells": [
  {
   "cell_type": "markdown",
   "metadata": {},
   "source": [
    "Import Packages"
   ]
  },
  {
   "cell_type": "code",
   "execution_count": 1,
   "metadata": {},
   "outputs": [],
   "source": [
    "import numpy as np\n",
    "import matplotlib.pyplot as plt\n",
    "import seaborn as sns\n",
    "import warnings\n",
    "warnings.filterwarnings('ignore')"
   ]
  },
  {
   "cell_type": "markdown",
   "metadata": {},
   "source": [
    "Linear Regression Class"
   ]
  },
  {
   "cell_type": "code",
   "execution_count": 2,
   "metadata": {},
   "outputs": [],
   "source": [
    "class LinReg(object):\n",
    "    def __init__(self):\n",
    "        self.t0=200\n",
    "        self.t1=100000\n",
    "    \n",
    "    def predict(self,X:np.ndarray)->np.ndarray:\n",
    "        return X@self.w\n",
    "    \n",
    "    def loss(self,X:np.ndarray,y:np.ndarray)->float:\n",
    "        error=y-self.predict(X)\n",
    "        return 0.5*np.transpose(error)@error\n",
    "    \n",
    "    def rmse(self,X:np.ndarray,y:np.ndarray)->float:\n",
    "        return np.sqrt((2/X.shape[0])*self.loss(X,y))\n",
    "    \n",
    "    def fit(self,X:np.ndarray,y:np.ndarray)->np.ndarray:\n",
    "        self.w=np.linalg.pinv(X)@y\n",
    "        return self.w\n",
    "\n",
    "    def calculate_gradient(self,X:np.ndarray,y:np.ndarray)->np.ndarray:\n",
    "        return np.transpose(X)@(self.predict(X)-y)\n",
    "\n",
    "    def update_weights(self,grad:np.ndarray,lr:float)->np.ndarray:\n",
    "        return (self.w-lr*grad)\n",
    "    \n",
    "    def learning_schedule(self,t):\n",
    "        return self.t0/(self.t1+t)\n",
    "    \n",
    "    def gradient_descent(self,X:np.ndarray,y:np.ndarray,num_epochs:int,lr:float)->np.ndarray:\n",
    "        self.w=np.zeros((X.shape[1]))\n",
    "        self.w_all=[]\n",
    "        self.err_all=[]\n",
    "        for i in range(num_epochs):\n",
    "            dJdW=self.calculate_gradient(X,y)\n",
    "            self.w_all.append(self.w)\n",
    "            self.err_all.append(self.loss(X,y))\n",
    "            self.w=self.update_weights(dJdW,lr)\n",
    "        return self.w\n",
    "    \n",
    "    def mini_batch_gradient_descent(self,X:np.ndarray,y:np.ndarray,num_epochs:int,batch_size:int)->np.ndarray:\n",
    "        self.w=np.zeros((X.shape[1]))\n",
    "        self.w_all=[]\n",
    "        self.err_all=[]\n",
    "        mini_batch_id=0\n",
    "\n",
    "        for epoch in range(num_epochs):\n",
    "            shuffled_indices=np.random.permutation(X.shape[0])\n",
    "            X_shuffled=X[shuffled_indices]\n",
    "            y_shuffled=y[shuffled_indices]\n",
    "            for i in range(0,X.shape[0],batch_size):\n",
    "                mini_batch_id+=1\n",
    "                xi=X_shuffled[i:i+batch_size]\n",
    "                yi=y_shuffled[i:i+batch_size]\n",
    "                \n",
    "                self.w_all.append(self.w)\n",
    "                self.err_all.append(self.loss(xi,yi))\n",
    "\n",
    "                dJdW=(2/batch_size)*self.calculate_gradient(xi,yi)\n",
    "                self.w=self.update_weights(dJdW,self.learning_schedule(mini_batch_id))\n",
    "        return self.w\n",
    "\n",
    "    def stochastic_gradient_descent(self,X:np.ndarray,y:np.ndarray,num_epochs:int)->np.ndarray:\n",
    "        self.w=np.zeros((X.shape[1]))\n",
    "        self.w_all=[]\n",
    "        self.err_all=[]\n",
    "\n",
    "        for epoch in range(num_epochs):\n",
    "            for i in range(X.shape[0]):\n",
    "                random_index=np.random.randint(X.shape[0])\n",
    "                xi=X[random_index:random_index+1]\n",
    "                yi=y[random_index:random_index+1]\n",
    "\n",
    "                self.w_all.append(self.w)\n",
    "                self.err_all.append(self.loss(xi,yi))\n",
    "\n",
    "                gradients=2*self.calculate_gradient(xi,yi)\n",
    "                lr=self.learning_schedule(epoch*X.shape[0]+i)\n",
    "                self.w=self.update_weights(gradients,lr)\n",
    "        return self.w"
   ]
  },
  {
   "cell_type": "markdown",
   "metadata": {},
   "source": [
    "Functions that performs Polynomial Transformation"
   ]
  },
  {
   "cell_type": "code",
   "execution_count": 3,
   "metadata": {},
   "outputs": [],
   "source": [
    "import itertools\n",
    "import functools\n",
    "\n",
    "def get_combinations(x,degree):\n",
    "    return itertools.combinations_with_replacement(x,degree)\n",
    "\n",
    "def compute_new_feature(items):\n",
    "    return functools.reduce(lambda x,y:x*y,items)"
   ]
  },
  {
   "cell_type": "code",
   "execution_count": 4,
   "metadata": {},
   "outputs": [
    {
     "data": {
      "text/plain": [
       "{(2, 2, 2): 8}"
      ]
     },
     "execution_count": 4,
     "metadata": {},
     "output_type": "execute_result"
    }
   ],
   "source": [
    "{items:compute_new_feature(items) for items in get_combinations([2],3)}"
   ]
  },
  {
   "cell_type": "code",
   "execution_count": 5,
   "metadata": {},
   "outputs": [
    {
     "data": {
      "text/plain": [
       "{(2, 2, 2): 8, (2, 2, 3): 12, (2, 3, 3): 18, (3, 3, 3): 27}"
      ]
     },
     "execution_count": 5,
     "metadata": {},
     "output_type": "execute_result"
    }
   ],
   "source": [
    "{items:compute_new_feature(items) for items in get_combinations([2,3],3)}"
   ]
  },
  {
   "cell_type": "code",
   "execution_count": 6,
   "metadata": {},
   "outputs": [
    {
     "data": {
      "text/plain": [
       "{(3, 3, 3, 3): 81,\n",
       " (3, 3, 3, 4): 108,\n",
       " (3, 3, 4, 4): 144,\n",
       " (3, 4, 4, 4): 192,\n",
       " (4, 4, 4, 4): 256}"
      ]
     },
     "execution_count": 6,
     "metadata": {},
     "output_type": "execute_result"
    }
   ],
   "source": [
    "{items:compute_new_feature(items) for items in get_combinations([3,4],4)}"
   ]
  },
  {
   "cell_type": "code",
   "execution_count": 7,
   "metadata": {},
   "outputs": [],
   "source": [
    "def polynomial_transform(x,degree,logging=False):\n",
    "    if x.ndim==1:\n",
    "        x=x[:,None]\n",
    "    x_t=x.transpose()\n",
    "    features=[np.ones(len(x))]\n",
    "    if logging:\n",
    "        print(\"Input : \",x)\n",
    "    for degree in range(1,degree+1):\n",
    "        for items in get_combinations(x_t,degree):\n",
    "            features.append(compute_new_feature(items))\n",
    "            if logging:\n",
    "                print(items,\" : \",compute_new_feature(items))\n",
    "    if logging:\n",
    "        print(np.asarray(features).transpose())\n",
    "    return np.asarray(features).transpose()"
   ]
  },
  {
   "cell_type": "code",
   "execution_count": 8,
   "metadata": {},
   "outputs": [
    {
     "name": "stdout",
     "output_type": "stream",
     "text": [
      "Input :  [[2 3]\n",
      " [4 5]]\n",
      "(array([2, 4]),)  :  [2 4]\n",
      "(array([3, 5]),)  :  [3 5]\n",
      "(array([2, 4]), array([2, 4]))  :  [ 4 16]\n",
      "(array([2, 4]), array([3, 5]))  :  [ 6 20]\n",
      "(array([3, 5]), array([3, 5]))  :  [ 9 25]\n",
      "[[ 1.  2.  3.  4.  6.  9.]\n",
      " [ 1.  4.  5. 16. 20. 25.]]\n"
     ]
    },
    {
     "data": {
      "text/plain": [
       "array([[ 1.,  2.,  3.,  4.,  6.,  9.],\n",
       "       [ 1.,  4.,  5., 16., 20., 25.]])"
      ]
     },
     "execution_count": 8,
     "metadata": {},
     "output_type": "execute_result"
    }
   ],
   "source": [
    "polynomial_transform(np.array([[2,3],[4,5]]),degree=2,logging=True)"
   ]
  },
  {
   "cell_type": "markdown",
   "metadata": {},
   "source": [
    "Non-Linear Training Data Generation - y=sin(2πx1)+noise"
   ]
  },
  {
   "cell_type": "code",
   "execution_count": 9,
   "metadata": {},
   "outputs": [],
   "source": [
    "def create_nonlin_training_set(func,sample_size,std):\n",
    "    x=np.linspace(0,1,sample_size)\n",
    "    y=func(x)+np.random.normal(scale=std,size=x.shape)\n",
    "    return x,y\n",
    "def nonlin(x):\n",
    "    return np.sin(2*np.pi*x)"
   ]
  },
  {
   "cell_type": "code",
   "execution_count": 10,
   "metadata": {},
   "outputs": [],
   "source": [
    "def visualize_training_data(X_train,y_train):\n",
    "    points=np.linspace(0,1,100)\n",
    "    output=nonlin(points)\n",
    "    sns.set(style='whitegrid')\n",
    "    sns.scatterplot(X_train,y_train),sns.lineplot(points,output)\n",
    "def visualize_model_fit(X,y,lin_reg,degree):\n",
    "    points=np.linspace(0,1,100)\n",
    "    output=nonlin(points)\n",
    "    sns.set(style='whitegrid')\n",
    "    sns.scatterplot(X,y),sns.lineplot(points,output)\n",
    "    y_hat=lin_reg.predict(polynomial_transform(points,degree))\n",
    "    sns.lineplot(points,y_hat,palette=['r'])"
   ]
  },
  {
   "cell_type": "code",
   "execution_count": 11,
   "metadata": {},
   "outputs": [
    {
     "data": {
      "image/png": "[encoded data removed]",
      "text/plain": [
       "<Figure size 432x288 with 1 Axes>"
      ]
     },
     "metadata": {},
     "output_type": "display_data"
    }
   ],
   "source": [
    "num_samples=10\n",
    "points=np.linspace(0,1,100)\n",
    "X,y=create_nonlin_training_set(nonlin,num_samples,0.2)\n",
    "visualize_training_data(X,y)\n"
   ]
  },
  {
   "cell_type": "code",
   "execution_count": 12,
   "metadata": {},
   "outputs": [
    {
     "data": {
      "image/png": "[encoded data removed]",
      "text/plain": [
       "<Figure size 432x288 with 1 Axes>"
      ]
     },
     "metadata": {},
     "output_type": "display_data"
    }
   ],
   "source": [
    "degree=5\n",
    "X_transform=polynomial_transform(X,degree)\n",
    "lin_reg=LinReg()\n",
    "lin_reg.fit(X_transform,y)\n",
    "visualize_model_fit(X,y,lin_reg,degree)"
   ]
  },
  {
   "cell_type": "code",
   "execution_count": 13,
   "metadata": {},
   "outputs": [
    {
     "data": {
      "text/plain": [
       "array([ 1.29175546e-02,  7.25515908e+00,  7.77929225e-01, -8.62389674e+01,\n",
       "        1.41502521e+02, -6.34714565e+01])"
      ]
     },
     "execution_count": 13,
     "metadata": {},
     "output_type": "execute_result"
    }
   ],
   "source": [
    "lin_reg.w"
   ]
  },
  {
   "cell_type": "code",
   "execution_count": 14,
   "metadata": {},
   "outputs": [
    {
     "data": {
      "image/png": "[encoded data removed]",
      "text/plain": [
       "<Figure size 432x288 with 1 Axes>"
      ]
     },
     "metadata": {},
     "output_type": "display_data"
    }
   ],
   "source": [
    "degree=9\n",
    "X_transform=polynomial_transform(X,degree)\n",
    "lin_reg=LinReg()\n",
    "lin_reg.fit(X_transform,y)\n",
    "visualize_model_fit(X,y,lin_reg,degree)"
   ]
  },
  {
   "cell_type": "code",
   "execution_count": 15,
   "metadata": {},
   "outputs": [
    {
     "data": {
      "text/plain": [
       "array([ 2.67113302e-02, -3.69551607e+01,  9.80347070e+02, -8.66063595e+03,\n",
       "        3.96509513e+04, -1.06256435e+05,  1.72101266e+05, -1.65472517e+05,\n",
       "        8.68391688e+04, -1.91453636e+04])"
      ]
     },
     "execution_count": 15,
     "metadata": {},
     "output_type": "execute_result"
    }
   ],
   "source": [
    "lin_reg.w"
   ]
  },
  {
   "cell_type": "markdown",
   "metadata": {},
   "source": [
    "Ridge Regularization - L2 Regularization\n",
    "Change are made in the following functions in the LinReg Class \n",
    "1. loss() \n",
    "2. calculate_gradient() \n",
    "3. fit() \n"
   ]
  },
  {
   "cell_type": "code",
   "execution_count": 16,
   "metadata": {},
   "outputs": [],
   "source": [
    "class LinReg(object):\n",
    "    def __init__(self):\n",
    "        self.t0=200\n",
    "        self.t1=100000\n",
    "    \n",
    "    def predict(self,X:np.ndarray)->np.ndarray:\n",
    "        return X@self.w\n",
    "    \n",
    "    def loss(self,X:np.ndarray,y:np.ndarray,reg_rate:float)->float:\n",
    "        error=y-self.predict(X)\n",
    "        return 0.5*np.transpose(error)@error+(reg_rate/2)*(np.transpose(self.w)@self.w)\n",
    "    \n",
    "    def rmse(self,X:np.ndarray,y:np.ndarray)->float:\n",
    "        return np.sqrt((2/X.shape[0])*self.loss(X,y))\n",
    "    \n",
    "    def fit(self,X:np.ndarray,y:np.ndarray,reg_rate:float)->np.ndarray:\n",
    "        self.w=np.zeros((X.shape[1]))\n",
    "        eye=np.eye(np.size(X,1))\n",
    "        self.w=np.linalg.solve( reg_rate*eye + X.T@X , X.T@y)\n",
    "        return self.w\n",
    "\n",
    "    def calculate_gradient(self,X:np.ndarray,y:np.ndarray,reg_rate:float)->np.ndarray:\n",
    "        return np.transpose(X)@(self.predict(X)-y) + reg_rate*self.w\n",
    "\n",
    "    def update_weights(self,grad:np.ndarray,lr:float)->np.ndarray:\n",
    "        return (self.w-lr*grad)\n",
    "    \n",
    "    def learning_schedule(self,t):\n",
    "        return self.t0/(self.t1+t)\n",
    "    \n",
    "    def gradient_descent(self,X:np.ndarray,y:np.ndarray,num_epochs:int,lr:float)->np.ndarray:\n",
    "        self.w=np.zeros((X.shape[1]))\n",
    "        self.w_all=[]\n",
    "        self.err_all=[]\n",
    "        for i in range(num_epochs):\n",
    "            dJdW=self.calculate_gradient(X,y)\n",
    "            self.w_all.append(self.w)\n",
    "            self.err_all.append(self.loss(X,y))\n",
    "            self.w=self.update_weights(dJdW,lr)\n",
    "        return self.w\n",
    "    \n",
    "    def mini_batch_gradient_descent(self,X:np.ndarray,y:np.ndarray,num_epochs:int,batch_size:int)->np.ndarray:\n",
    "        self.w=np.zeros((X.shape[1]))\n",
    "        self.w_all=[]\n",
    "        self.err_all=[]\n",
    "        mini_batch_id=0\n",
    "\n",
    "        for epoch in range(num_epochs):\n",
    "            shuffled_indices=np.random.permutation(X.shape[0])\n",
    "            X_shuffled=X[shuffled_indices]\n",
    "            y_shuffled=y[shuffled_indices]\n",
    "            for i in range(0,X.shape[0],batch_size):\n",
    "                mini_batch_id+=1\n",
    "                xi=X_shuffled[i:i+batch_size]\n",
    "                yi=y_shuffled[i:i+batch_size]\n",
    "                \n",
    "                self.w_all.append(self.w)\n",
    "                self.err_all.append(self.loss(xi,yi))\n",
    "\n",
    "                dJdW=(2/batch_size)*self.calculate_gradient(xi,yi)\n",
    "                self.w=self.update_weights(dJdW,self.learning_schedule(mini_batch_id))\n",
    "        return self.w\n",
    "\n",
    "    def stochastic_gradient_descent(self,X:np.ndarray,y:np.ndarray,num_epochs:int)->np.ndarray:\n",
    "        self.w=np.zeros((X.shape[1]))\n",
    "        self.w_all=[]\n",
    "        self.err_all=[]\n",
    "\n",
    "        for epoch in range(num_epochs):\n",
    "            for i in range(X.shape[0]):\n",
    "                random_index=np.random.randint(X.shape[0])\n",
    "                xi=X[random_index:random_index+1]\n",
    "                yi=y[random_index:random_index+1]\n",
    "\n",
    "                self.w_all.append(self.w)\n",
    "                self.err_all.append(self.loss(xi,yi))\n",
    "\n",
    "                gradients=2*self.calculate_gradient(xi,yi)\n",
    "                lr=self.learning_schedule(epoch*X.shape[0]+i)\n",
    "                self.w=self.update_weights(gradients,lr)\n",
    "        return self.w"
   ]
  },
  {
   "cell_type": "code",
   "execution_count": 17,
   "metadata": {},
   "outputs": [
    {
     "data": {
      "image/png": "[encoded data removed]",
      "text/plain": [
       "<Figure size 432x288 with 1 Axes>"
      ]
     },
     "metadata": {},
     "output_type": "display_data"
    }
   ],
   "source": [
    "degree=9\n",
    "X_transform=polynomial_transform(X,degree)\n",
    "lin_reg=LinReg()\n",
    "lin_reg.fit(X_transform,y,0.01)\n",
    "visualize_model_fit(X,y,lin_reg,degree)"
   ]
  },
  {
   "cell_type": "markdown",
   "metadata": {},
   "source": [
    "Lasso Regularization - L1 Regularization"
   ]
  },
  {
   "cell_type": "code",
   "execution_count": 18,
   "metadata": {},
   "outputs": [
    {
     "data": {
      "text/plain": [
       "Lasso(alpha=0.01)"
      ]
     },
     "execution_count": 18,
     "metadata": {},
     "output_type": "execute_result"
    }
   ],
   "source": [
    "from sklearn.linear_model import Lasso\n",
    "import pandas as pd\n",
    "reg_rate=0.01\n",
    "lasso=Lasso(alpha=reg_rate)\n",
    "lasso.fit(X_transform,y)\n"
   ]
  },
  {
   "cell_type": "code",
   "execution_count": 19,
   "metadata": {},
   "outputs": [
    {
     "data": {
      "image/png": "[encoded data removed]",
      "text/plain": [
       "<Figure size 432x288 with 1 Axes>"
      ]
     },
     "metadata": {},
     "output_type": "display_data"
    }
   ],
   "source": [
    "visualize_model_fit(X,y,lasso,degree)"
   ]
  },
  {
   "cell_type": "code",
   "execution_count": 20,
   "metadata": {},
   "outputs": [
    {
     "data": {
      "text/html": [
       "<div>\n",
       "<style scoped>\n",
       "    .dataframe tbody tr th:only-of-type {\n",
       "        vertical-align: middle;\n",
       "    }\n",
       "\n",
       "    .dataframe tbody tr th {\n",
       "        vertical-align: top;\n",
       "    }\n",
       "\n",
       "    .dataframe thead th {\n",
       "        text-align: right;\n",
       "    }\n",
       "</style>\n",
       "<table border=\"1\" class=\"dataframe\">\n",
       "  <thead>\n",
       "    <tr style=\"text-align: right;\">\n",
       "      <th></th>\n",
       "      <th>Rigde</th>\n",
       "      <th>Lasso</th>\n",
       "    </tr>\n",
       "  </thead>\n",
       "  <tbody>\n",
       "    <tr>\n",
       "      <th>0</th>\n",
       "      <td>0.502335</td>\n",
       "      <td>0.000000</td>\n",
       "    </tr>\n",
       "    <tr>\n",
       "      <th>1</th>\n",
       "      <td>1.292561</td>\n",
       "      <td>-0.000000</td>\n",
       "    </tr>\n",
       "    <tr>\n",
       "      <th>2</th>\n",
       "      <td>-3.663913</td>\n",
       "      <td>-2.039875</td>\n",
       "    </tr>\n",
       "    <tr>\n",
       "      <th>3</th>\n",
       "      <td>-1.778696</td>\n",
       "      <td>-0.000000</td>\n",
       "    </tr>\n",
       "    <tr>\n",
       "      <th>4</th>\n",
       "      <td>0.131239</td>\n",
       "      <td>0.000000</td>\n",
       "    </tr>\n",
       "    <tr>\n",
       "      <th>5</th>\n",
       "      <td>1.095999</td>\n",
       "      <td>0.000000</td>\n",
       "    </tr>\n",
       "    <tr>\n",
       "      <th>6</th>\n",
       "      <td>1.281568</td>\n",
       "      <td>0.000000</td>\n",
       "    </tr>\n",
       "    <tr>\n",
       "      <th>7</th>\n",
       "      <td>0.976445</td>\n",
       "      <td>0.000000</td>\n",
       "    </tr>\n",
       "    <tr>\n",
       "      <th>8</th>\n",
       "      <td>0.401701</td>\n",
       "      <td>0.000000</td>\n",
       "    </tr>\n",
       "    <tr>\n",
       "      <th>9</th>\n",
       "      <td>-0.299360</td>\n",
       "      <td>1.252267</td>\n",
       "    </tr>\n",
       "  </tbody>\n",
       "</table>\n",
       "</div>"
      ],
      "text/plain": [
       "      Rigde     Lasso\n",
       "0  0.502335  0.000000\n",
       "1  1.292561 -0.000000\n",
       "2 -3.663913 -2.039875\n",
       "3 -1.778696 -0.000000\n",
       "4  0.131239  0.000000\n",
       "5  1.095999  0.000000\n",
       "6  1.281568  0.000000\n",
       "7  0.976445  0.000000\n",
       "8  0.401701  0.000000\n",
       "9 -0.299360  1.252267"
      ]
     },
     "execution_count": 20,
     "metadata": {},
     "output_type": "execute_result"
    }
   ],
   "source": [
    "\n",
    "pd.DataFrame({'Rigde':lin_reg.w,'Lasso':lasso.coef_})"
   ]
  },
  {
   "cell_type": "markdown",
   "metadata": {},
   "source": [
    "# Multi-Output/Multi-Label Regresssion"
   ]
  },
  {
   "cell_type": "code",
   "execution_count": 21,
   "metadata": {},
   "outputs": [
    {
     "data": {
      "text/plain": [
       "((100, 10), (100, 5))"
      ]
     },
     "execution_count": 21,
     "metadata": {},
     "output_type": "execute_result"
    }
   ],
   "source": [
    "from sklearn.datasets import make_regression\n",
    "X,y,coef=make_regression(100,10,10,bias=1,n_targets=5,shuffle=True,coef=True)\n",
    "X.shape,y.shape"
   ]
  },
  {
   "cell_type": "code",
   "execution_count": 22,
   "metadata": {},
   "outputs": [],
   "source": [
    "from sklearn.model_selection import train_test_split\n",
    "def add_dummy(x): return np.column_stack((np.ones(x.shape[0]),x))\n",
    "def preprocess(X,y):\n",
    "  X_dummy = add_dummy(X)\n",
    "  return  train_test_split(X_dummy,y,test_size = 0.2, random_state = 42)"
   ]
  },
  {
   "cell_type": "code",
   "execution_count": 23,
   "metadata": {},
   "outputs": [],
   "source": [
    "X_train, X_test, y_train, y_test = preprocess(X,y)"
   ]
  },
  {
   "cell_type": "markdown",
   "metadata": {},
   "source": [
    "We modify LinReg class by changing Weight Vector to Weight Matrix"
   ]
  },
  {
   "cell_type": "code",
   "execution_count": 46,
   "metadata": {},
   "outputs": [],
   "source": [
    "class LinReg(object):\n",
    "    def __init__(self):\n",
    "        self.t0=200\n",
    "        self.t1=100000\n",
    "    \n",
    "    def predict(self,X:np.ndarray)->np.ndarray:\n",
    "        return X@self.w\n",
    "    \n",
    "    def loss(self,X:np.ndarray,y:np.ndarray,reg_rate:float)->float:\n",
    "        error=y-self.predict(X)\n",
    "        return 0.5*np.transpose(error)@error+(reg_rate/2)*(np.transpose(self.w)@self.w)\n",
    "    \n",
    "    def rmse(self,X:np.ndarray,y:np.ndarray)->float:\n",
    "        return np.sqrt((2/X.shape[0])*self.loss(X,y))\n",
    "    \n",
    "    def fit(self,X:np.ndarray,y:np.ndarray,reg_rate:float)->np.ndarray:\n",
    "        self.w=np.zeros((X.shape[1],y.shape[1]))\n",
    "        eye=np.eye(np.size(X,1))\n",
    "        self.w=np.linalg.solve( reg_rate*eye + X.T@X , X.T@y)\n",
    "        return self.w\n",
    "\n",
    "    def calculate_gradient(self,X:np.ndarray,y:np.ndarray,reg_rate:float)->np.ndarray:\n",
    "        return np.transpose(X)@(self.predict(X)-y) + reg_rate*self.w\n",
    "\n",
    "    def update_weights(self,grad:np.ndarray,lr:float)->np.ndarray:\n",
    "        return (self.w-lr*grad)\n",
    "    \n",
    "    def learning_schedule(self,t):\n",
    "        return self.t0/(self.t1+t)\n",
    "    \n",
    "    def gradient_descent(self,X:np.ndarray,y:np.ndarray,num_epochs:int,lr:float,reg_rate:float)->np.ndarray:\n",
    "        self.w=np.zeros((X.shape[1],y.shape[1]))\n",
    "        self.w_all=[]\n",
    "        self.err_all=[]\n",
    "        for i in range(num_epochs):\n",
    "            dJdW=self.calculate_gradient(X,y,reg_rate)\n",
    "            self.w_all.append(self.w)\n",
    "            self.err_all.append(self.loss(X,y,reg_rate))\n",
    "            self.w=self.update_weights(dJdW,lr)\n",
    "        return self.w\n",
    "    \n",
    "    def mini_batch_gradient_descent(self,X:np.ndarray,y:np.ndarray,num_epochs:int,batch_size:int)->np.ndarray:\n",
    "        self.w=np.zeros((X.shape[1]))\n",
    "        self.w_all=[]\n",
    "        self.err_all=[]\n",
    "        mini_batch_id=0\n",
    "\n",
    "        for epoch in range(num_epochs):\n",
    "            shuffled_indices=np.random.permutation(X.shape[0])\n",
    "            X_shuffled=X[shuffled_indices]\n",
    "            y_shuffled=y[shuffled_indices]\n",
    "            for i in range(0,X.shape[0],batch_size):\n",
    "                mini_batch_id+=1\n",
    "                xi=X_shuffled[i:i+batch_size]\n",
    "                yi=y_shuffled[i:i+batch_size]\n",
    "                \n",
    "                self.w_all.append(self.w)\n",
    "                self.err_all.append(self.loss(xi,yi))\n",
    "\n",
    "                dJdW=(2/batch_size)*self.calculate_gradient(xi,yi)\n",
    "                self.w=self.update_weights(dJdW,self.learning_schedule(mini_batch_id))\n",
    "        return self.w\n",
    "\n",
    "    def stochastic_gradient_descent(self,X:np.ndarray,y:np.ndarray,num_epochs:int)->np.ndarray:\n",
    "        self.w=np.zeros((X.shape[1]))\n",
    "        self.w_all=[]\n",
    "        self.err_all=[]\n",
    "\n",
    "        for epoch in range(num_epochs):\n",
    "            for i in range(X.shape[0]):\n",
    "                random_index=np.random.randint(X.shape[0])\n",
    "                xi=X[random_index:random_index+1]\n",
    "                yi=y[random_index:random_index+1]\n",
    "\n",
    "                self.w_all.append(self.w)\n",
    "                self.err_all.append(self.loss(xi,yi))\n",
    "\n",
    "                gradients=2*self.calculate_gradient(xi,yi)\n",
    "                lr=self.learning_schedule(epoch*X.shape[0]+i)\n",
    "                self.w=self.update_weights(gradients,lr)\n",
    "        return self.w"
   ]
  },
  {
   "cell_type": "code",
   "execution_count": 47,
   "metadata": {},
   "outputs": [],
   "source": [
    "lin_reg=LinReg()\n",
    "w=lin_reg.fit(X_train,y_train,0)\n",
    "np.testing.assert_almost_equal(w[1:,:],coef,decimal=2)"
   ]
  },
  {
   "cell_type": "code",
   "execution_count": 48,
   "metadata": {},
   "outputs": [],
   "source": [
    "w=lin_reg.gradient_descent(X_train,y_train,100,0.01,reg_rate=0)\n",
    "np.testing.assert_almost_equal(w[1:,:],coef,decimal=2)"
   ]
  }
 ],
 "metadata": {
  "interpreter": {
   "hash": "b3ba2566441a7c06988d0923437866b63cedc61552a5af99d1f4fb67d367b25f"
  },
  "kernelspec": {
   "display_name": "Python 3.9.7 64-bit ('base': conda)",
   "language": "python",
   "name": "python3"
  },
  "language_info": {
   "codemirror_mode": {
    "name": "ipython",
    "version": 3
   },
   "file_extension": ".py",
   "mimetype": "text/x-python",
   "name": "python",
   "nbconvert_exporter": "python",
   "pygments_lexer": "ipython3",
   "version": "3.9.7"
  },
  "orig_nbformat": 4
 },
 "nbformat": 4,
 "nbformat_minor": 2
}
