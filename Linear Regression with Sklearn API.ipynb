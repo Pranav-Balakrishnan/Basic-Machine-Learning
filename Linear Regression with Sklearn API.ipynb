{
 "cells": [
  {
   "cell_type": "markdown",
   "metadata": {},
   "source": [
    "## Step 0 : Imports"
   ]
  },
  {
   "cell_type": "code",
   "execution_count": 1,
   "metadata": {},
   "outputs": [],
   "source": [
    "import numpy as np\n",
    "import matplotlib.pyplot as plt\n",
    "import seaborn as sns\n",
    "import pandas as pd\n",
    "import warnings\n",
    "warnings.filterwarnings('ignore')\n",
    "from sklearn.preprocessing import StandardScaler\n",
    "from sklearn.datasets import fetch_california_housing\n",
    "from sklearn.pipeline import Pipeline\n",
    "from sklearn.linear_model import LinearRegression\n",
    "from sklearn.model_selection import cross_validate,cross_val_score,learning_curve,ShuffleSplit\n",
    "from sklearn.metrics import mean_squared_error\n",
    "from sklearn.model_selection import train_test_split\n",
    "plt.style.use('seaborn')"
   ]
  },
  {
   "cell_type": "code",
   "execution_count": 2,
   "metadata": {},
   "outputs": [],
   "source": [
    "shuffle_split_cv=ShuffleSplit(n_splits=10,test_size=0.2)"
   ]
  },
  {
   "cell_type": "markdown",
   "metadata": {},
   "source": [
    "## Step 1 : Load Dataset"
   ]
  },
  {
   "cell_type": "code",
   "execution_count": 3,
   "metadata": {},
   "outputs": [
    {
     "data": {
      "text/plain": [
       "((20640, 8), (20640,))"
      ]
     },
     "execution_count": 3,
     "metadata": {},
     "output_type": "execute_result"
    }
   ],
   "source": [
    "features,labels=fetch_california_housing(as_frame=True,return_X_y=True)\n",
    "features.shape,labels.shape"
   ]
  },
  {
   "cell_type": "markdown",
   "metadata": {},
   "source": [
    "## Step 2 : Data Exploration"
   ]
  },
  {
   "cell_type": "code",
   "execution_count": null,
   "metadata": {},
   "outputs": [],
   "source": []
  },
  {
   "cell_type": "markdown",
   "metadata": {},
   "source": [
    "## Step 3 : Preprocessing and Model Building"
   ]
  },
  {
   "cell_type": "code",
   "execution_count": 4,
   "metadata": {},
   "outputs": [],
   "source": [
    "train_features, test_features, train_labels,test_labels = train_test_split(features,labels)"
   ]
  },
  {
   "cell_type": "code",
   "execution_count": 5,
   "metadata": {},
   "outputs": [
    {
     "data": {
      "text/plain": [
       "(array([ 8.21836553e-01,  1.17080226e-01, -2.89366127e-01,  3.24110961e-01,\n",
       "        -7.13219957e-04, -4.18293138e-02, -8.90640383e-01, -8.67692156e-01]),\n",
       " 2.0556878514211845)"
      ]
     },
     "execution_count": 5,
     "metadata": {},
     "output_type": "execute_result"
    }
   ],
   "source": [
    "lin_reg_pipe=Pipeline([(\"feature_scaling\",StandardScaler()),\n",
    "                        (\"lin_reg\",LinearRegression())])\n",
    "lin_reg_pipe.fit(train_features,train_labels)\n",
    "lin_reg_pipe[-1].coef_,lin_reg_pipe[-1].intercept_"
   ]
  },
  {
   "cell_type": "code",
   "execution_count": 6,
   "metadata": {},
   "outputs": [
    {
     "data": {
      "text/plain": [
       "Pipeline(steps=[('feature_scaling', StandardScaler()),\n",
       "                ('lin_reg', LinearRegression())])"
      ]
     },
     "execution_count": 6,
     "metadata": {},
     "output_type": "execute_result"
    }
   ],
   "source": [
    "lin_reg_pipe"
   ]
  },
  {
   "cell_type": "markdown",
   "metadata": {},
   "source": [
    "## Step 4 : Model Evaluation"
   ]
  },
  {
   "cell_type": "code",
   "execution_count": 7,
   "metadata": {},
   "outputs": [
    {
     "data": {
      "text/plain": [
       "(0.5986279055374162, 0.6269391377249561)"
      ]
     },
     "execution_count": 7,
     "metadata": {},
     "output_type": "execute_result"
    }
   ],
   "source": [
    "train_score,test_score=lin_reg_pipe.score(train_features,train_labels),lin_reg_pipe.score(test_features,test_labels)\n",
    "train_score,test_score"
   ]
  },
  {
   "cell_type": "code",
   "execution_count": 8,
   "metadata": {},
   "outputs": [
    {
     "data": {
      "text/plain": [
       "(array([-0.47721959, -0.47748057, -0.51060462, -0.51909205, -0.50711539,\n",
       "        -0.55199719, -0.54127502, -0.54907424, -0.55417572, -0.55518762]),\n",
       " -0.5243222016906017,\n",
       " 0.029041811637497434)"
      ]
     },
     "execution_count": 8,
     "metadata": {},
     "output_type": "execute_result"
    }
   ],
   "source": [
    "lin_reg_score=cross_val_score(lin_reg_pipe,train_features,train_labels,scoring='neg_mean_squared_error',cv=shuffle_split_cv)\n",
    "lin_reg_score,lin_reg_score.mean(),lin_reg_score.std()"
   ]
  },
  {
   "cell_type": "code",
   "execution_count": 10,
   "metadata": {},
   "outputs": [
    {
     "data": {
      "text/plain": [
       "{'fit_time': array([0.00595951, 0.00397348, 0.00397229, 0.00397515, 0.00496674,\n",
       "        0.00446963, 0.00446987, 0.00446916, 0.0059607 , 0.00447011]),\n",
       " 'score_time': array([0.00099397, 0.00099349, 0.00099325, 0.00099206, 0.00149012,\n",
       "        0.00099373, 0.00099349, 0.00149035, 0.00099158, 0.00099325]),\n",
       " 'estimator': [Pipeline(steps=[('feature_scaling', StandardScaler()),\n",
       "                  ('lin_reg', LinearRegression())]),\n",
       "  Pipeline(steps=[('feature_scaling', StandardScaler()),\n",
       "                  ('lin_reg', LinearRegression())]),\n",
       "  Pipeline(steps=[('feature_scaling', StandardScaler()),\n",
       "                  ('lin_reg', LinearRegression())]),\n",
       "  Pipeline(steps=[('feature_scaling', StandardScaler()),\n",
       "                  ('lin_reg', LinearRegression())]),\n",
       "  Pipeline(steps=[('feature_scaling', StandardScaler()),\n",
       "                  ('lin_reg', LinearRegression())]),\n",
       "  Pipeline(steps=[('feature_scaling', StandardScaler()),\n",
       "                  ('lin_reg', LinearRegression())]),\n",
       "  Pipeline(steps=[('feature_scaling', StandardScaler()),\n",
       "                  ('lin_reg', LinearRegression())]),\n",
       "  Pipeline(steps=[('feature_scaling', StandardScaler()),\n",
       "                  ('lin_reg', LinearRegression())]),\n",
       "  Pipeline(steps=[('feature_scaling', StandardScaler()),\n",
       "                  ('lin_reg', LinearRegression())]),\n",
       "  Pipeline(steps=[('feature_scaling', StandardScaler()),\n",
       "                  ('lin_reg', LinearRegression())])],\n",
       " 'test_score': array([-0.50623793, -0.5507848 , -0.49826883, -0.55336074, -0.52986263,\n",
       "        -0.59660118, -0.53480411, -0.51047515, -0.49647635, -0.55716401]),\n",
       " 'train_score': array([-0.53278304, -0.52161596, -0.53469342, -0.52096308, -0.52694102,\n",
       "        -0.51280307, -0.52638411, -0.53169918, -0.53511009, -0.52479177])}"
      ]
     },
     "execution_count": 10,
     "metadata": {},
     "output_type": "execute_result"
    }
   ],
   "source": [
    "lin_reg_cv_results=cross_validate(lin_reg_pipe,train_features,train_labels,scoring='neg_mean_squared_error',\n",
    "                                    cv=shuffle_split_cv,return_estimator=True,return_train_score=True)\n",
    "train_error,test_error=lin_reg_cv_results['train_score'],lin_reg_cv_results['test_score']\n",
    "lin_reg_cv_results"
   ]
  },
  {
   "cell_type": "code",
   "execution_count": 12,
   "metadata": {},
   "outputs": [
    {
     "data": {
      "text/plain": [
       "(2.0474176719961217,\n",
       " array([ 0.83403186,  0.11306557, -0.30634312,  0.3497497 ,  0.00435311,\n",
       "        -0.04940805, -0.90410699, -0.88438937]))"
      ]
     },
     "execution_count": 12,
     "metadata": {},
     "output_type": "execute_result"
    }
   ],
   "source": [
    "best_model_index=np.argmin(test_error)\n",
    "selected_model=lin_reg_cv_results['estimator'][best_model_index]\n",
    "selected_model['lin_reg'].intercept_,selected_model['lin_reg'].coef_"
   ]
  },
  {
   "cell_type": "code",
   "execution_count": 14,
   "metadata": {},
   "outputs": [
    {
     "data": {
      "text/plain": [
       "[<matplotlib.lines.Line2D at 0x2469a6132b0>]"
      ]
     },
     "execution_count": 14,
     "metadata": {},
     "output_type": "execute_result"
    },
    {
     "data": {
      "image/png": "[encoded data removed]",
      "text/plain": [
       "<Figure size 576x396 with 1 Axes>"
      ]
     },
     "metadata": {},
     "output_type": "display_data"
    }
   ],
   "source": [
    "from sklearn.model_selection import cross_val_predict\n",
    "cv_preds=cross_val_predict(lin_reg_pipe,train_features,train_labels)\n",
    "mse_cv=mean_squared_error(train_labels,cv_preds)\n",
    "sns.scatterplot(train_labels,cv_preds)\n",
    "plt.plot(train_labels,train_labels,'r-')"
   ]
  },
  {
   "cell_type": "markdown",
   "metadata": {},
   "source": [
    "## Step 5 : Predictions"
   ]
  },
  {
   "cell_type": "code",
   "execution_count": 15,
   "metadata": {},
   "outputs": [
    {
     "data": {
      "text/plain": [
       "array([1.65692312, 1.51018955, 1.7628295 , 3.06257965, 2.8699752 ])"
      ]
     },
     "execution_count": 15,
     "metadata": {},
     "output_type": "execute_result"
    }
   ],
   "source": [
    "test_preds_cv=selected_model.predict(test_features)\n",
    "test_preds_cv[:5]"
   ]
  },
  {
   "cell_type": "code",
   "execution_count": 16,
   "metadata": {},
   "outputs": [
    {
     "data": {
      "text/plain": [
       "array([1.67288722, 1.52923266, 1.78035427, 3.07233013, 2.88487663])"
      ]
     },
     "execution_count": 16,
     "metadata": {},
     "output_type": "execute_result"
    }
   ],
   "source": [
    "test_pred=lin_reg_pipe.predict(test_features)\n",
    "test_pred[:5]"
   ]
  },
  {
   "cell_type": "markdown",
   "metadata": {},
   "source": [
    "## Step 5 : Report Model Performance"
   ]
  },
  {
   "cell_type": "code",
   "execution_count": 17,
   "metadata": {},
   "outputs": [
    {
     "data": {
      "text/plain": [
       "(0.6264051014803931, 0.6269391377249561)"
      ]
     },
     "execution_count": 17,
     "metadata": {},
     "output_type": "execute_result"
    }
   ],
   "source": [
    "score_cv=selected_model.score(test_features,test_labels)\n",
    "score=lin_reg_pipe.score(test_features,test_labels)\n",
    "score_cv,score"
   ]
  }
 ],
 "metadata": {
  "interpreter": {
   "hash": "9df1b3d7a578ae7f9767aeeed95c1791e173583b81c588f90ca906e4d0abdec3"
  },
  "kernelspec": {
   "display_name": "Python 3.9.5 64-bit ('base': conda)",
   "language": "python",
   "name": "python3"
  },
  "language_info": {
   "codemirror_mode": {
    "name": "ipython",
    "version": 3
   },
   "file_extension": ".py",
   "mimetype": "text/x-python",
   "name": "python",
   "nbconvert_exporter": "python",
   "pygments_lexer": "ipython3",
   "version": "3.9.5"
  },
  "orig_nbformat": 4
 },
 "nbformat": 4,
 "nbformat_minor": 2
}
